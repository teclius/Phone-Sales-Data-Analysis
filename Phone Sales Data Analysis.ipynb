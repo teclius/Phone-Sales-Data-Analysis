{
 "cells": [
  {
   "cell_type": "markdown",
   "id": "97e857c6-c412-40d1-870d-632542267bad",
   "metadata": {},
   "source": [
    "# Populating Data"
   ]
  },
  {
   "cell_type": "code",
   "execution_count": 29,
   "id": "4f02e920-dde6-4226-b874-30ecf0d11a86",
   "metadata": {},
   "outputs": [],
   "source": [
    "import pandas as pd\n",
    "import numpy as np\n",
    "from faker import Faker"
   ]
  },
  {
   "cell_type": "code",
   "execution_count": 30,
   "id": "fd48fbf9-c232-4f97-bf96-2b5732a0d860",
   "metadata": {},
   "outputs": [],
   "source": [
    "# Initialize Faker\n",
    "fake = Faker()"
   ]
  },
  {
   "cell_type": "code",
   "execution_count": 31,
   "id": "0d231eb4-462d-4baa-8999-4584ba7b2566",
   "metadata": {},
   "outputs": [],
   "source": [
    "# Set seed for reproducibility\n",
    "np.random.seed(0)\n",
    "Faker.seed(0)"
   ]
  },
  {
   "cell_type": "code",
   "execution_count": 32,
   "id": "6db0a511-dd91-4397-86a7-ee75a674ffb5",
   "metadata": {},
   "outputs": [],
   "source": [
    "# Generate 10,000 random dates within a given range\n",
    "date_range = pd.date_range(start='2020-01-01', end='2023-01-01')\n",
    "random_dates = np.random.choice(date_range, size=10000)"
   ]
  },
  {
   "cell_type": "code",
   "execution_count": 33,
   "id": "c89a7646-d351-4aeb-873c-3cefdc8d328c",
   "metadata": {},
   "outputs": [],
   "source": [
    "# Generate random integers for the other 4 columns\n",
    "Price = np.random.randint(500, 2000, size=10000)\n",
    "Quantity = np.random.randint(1, 10, size=10000)\n",
    "Discount = np.random.randint(0, 50, size=10000)"
   ]
  },
  {
   "cell_type": "code",
   "execution_count": 34,
   "id": "2eaec20c-a58b-4d33-b88b-fd0c9c19e508",
   "metadata": {},
   "outputs": [],
   "source": [
    "# Generate random full names\n",
    "names = [fake.name() for _ in range(10000)]"
   ]
  },
  {
   "cell_type": "code",
   "execution_count": 35,
   "id": "99cfeb3a-2843-4b35-b174-644f6887a61e",
   "metadata": {},
   "outputs": [],
   "source": [
    "# Adding list of phone types as items\n",
    "Item = ['iPhone', 'Samsung Galaxy', 'Google Pixel', 'OnePlus', 'Huawei', 'Sony Xperia', 'Nokia','Motorola']\n",
    "random_phone_types = np.random.choice(Item, size=10000)"
   ]
  },
  {
   "cell_type": "code",
   "execution_count": 36,
   "id": "ca107a2f-6d96-4e6f-b98e-ffb8afc1fb79",
   "metadata": {},
   "outputs": [],
   "source": [
    "# Create a DataFrame\n",
    "df = pd.DataFrame({\n",
    "    'Date': random_dates,\n",
    "    'FullName': names,\n",
    "    'Item': random_phone_types,\n",
    "    'Price': Price,\n",
    "    'Quantity': Quantity,\n",
    "    'Discount': Discount\n",
    "})"
   ]
  },
  {
   "cell_type": "code",
   "execution_count": 37,
   "id": "dcdbf31f-e177-45cd-aba7-1cf11849166c",
   "metadata": {},
   "outputs": [
    {
     "data": {
      "text/html": [
       "<div>\n",
       "<style scoped>\n",
       "    .dataframe tbody tr th:only-of-type {\n",
       "        vertical-align: middle;\n",
       "    }\n",
       "\n",
       "    .dataframe tbody tr th {\n",
       "        vertical-align: top;\n",
       "    }\n",
       "\n",
       "    .dataframe thead th {\n",
       "        text-align: right;\n",
       "    }\n",
       "</style>\n",
       "<table border=\"1\" class=\"dataframe\">\n",
       "  <thead>\n",
       "    <tr style=\"text-align: right;\">\n",
       "      <th></th>\n",
       "      <th>Date</th>\n",
       "      <th>FullName</th>\n",
       "      <th>Item</th>\n",
       "      <th>Price</th>\n",
       "      <th>Quantity</th>\n",
       "      <th>Discount</th>\n",
       "    </tr>\n",
       "  </thead>\n",
       "  <tbody>\n",
       "    <tr>\n",
       "      <th>0</th>\n",
       "      <td>2021-11-15</td>\n",
       "      <td>Norma Fisher</td>\n",
       "      <td>Nokia</td>\n",
       "      <td>1390</td>\n",
       "      <td>8</td>\n",
       "      <td>23</td>\n",
       "    </tr>\n",
       "    <tr>\n",
       "      <th>1</th>\n",
       "      <td>2021-07-13</td>\n",
       "      <td>Jorge Sullivan</td>\n",
       "      <td>Nokia</td>\n",
       "      <td>1161</td>\n",
       "      <td>8</td>\n",
       "      <td>40</td>\n",
       "    </tr>\n",
       "    <tr>\n",
       "      <th>2</th>\n",
       "      <td>2022-04-15</td>\n",
       "      <td>Elizabeth Woods</td>\n",
       "      <td>OnePlus</td>\n",
       "      <td>645</td>\n",
       "      <td>4</td>\n",
       "      <td>15</td>\n",
       "    </tr>\n",
       "    <tr>\n",
       "      <th>3</th>\n",
       "      <td>2022-02-02</td>\n",
       "      <td>Susan Wagner</td>\n",
       "      <td>Sony Xperia</td>\n",
       "      <td>569</td>\n",
       "      <td>6</td>\n",
       "      <td>34</td>\n",
       "    </tr>\n",
       "    <tr>\n",
       "      <th>4</th>\n",
       "      <td>2022-10-30</td>\n",
       "      <td>Peter Montgomery</td>\n",
       "      <td>OnePlus</td>\n",
       "      <td>1488</td>\n",
       "      <td>8</td>\n",
       "      <td>35</td>\n",
       "    </tr>\n",
       "  </tbody>\n",
       "</table>\n",
       "</div>"
      ],
      "text/plain": [
       "        Date          FullName         Item  Price  Quantity  Discount\n",
       "0 2021-11-15      Norma Fisher        Nokia   1390         8        23\n",
       "1 2021-07-13    Jorge Sullivan        Nokia   1161         8        40\n",
       "2 2022-04-15   Elizabeth Woods      OnePlus    645         4        15\n",
       "3 2022-02-02      Susan Wagner  Sony Xperia    569         6        34\n",
       "4 2022-10-30  Peter Montgomery      OnePlus   1488         8        35"
      ]
     },
     "execution_count": 37,
     "metadata": {},
     "output_type": "execute_result"
    }
   ],
   "source": [
    "# Ensuring Price, quantity and Discount are Numeric\n",
    "df['Price']=pd.to_numeric(df['Price'])\n",
    "df['Quantity']=pd.to_numeric(df['Quantity'])\n",
    "df['Discount']=pd.to_numeric(df['Discount'])\n",
    "df.head(5)"
   ]
  },
  {
   "cell_type": "markdown",
   "id": "422b25fb-427d-4675-90b7-84e8258283e7",
   "metadata": {},
   "source": [
    "# Calculating Column1 (TotalPrice)"
   ]
  },
  {
   "cell_type": "code",
   "execution_count": 38,
   "id": "72f9012e-4c1c-4c56-95de-ccd461c8dbcc",
   "metadata": {},
   "outputs": [],
   "source": [
    "# Calculating Total Price as the Product of Price and Quantity, accounting for Discount\n",
    "df['TotalPrice'] = df['Price']*df['Quantity']*(1 - df['Discount'] / 100)"
   ]
  },
  {
   "cell_type": "code",
   "execution_count": 39,
   "id": "9394aa5e-79fe-40f7-9066-07ed351148ba",
   "metadata": {},
   "outputs": [
    {
     "data": {
      "text/html": [
       "<div>\n",
       "<style scoped>\n",
       "    .dataframe tbody tr th:only-of-type {\n",
       "        vertical-align: middle;\n",
       "    }\n",
       "\n",
       "    .dataframe tbody tr th {\n",
       "        vertical-align: top;\n",
       "    }\n",
       "\n",
       "    .dataframe thead th {\n",
       "        text-align: right;\n",
       "    }\n",
       "</style>\n",
       "<table border=\"1\" class=\"dataframe\">\n",
       "  <thead>\n",
       "    <tr style=\"text-align: right;\">\n",
       "      <th></th>\n",
       "      <th>Date</th>\n",
       "      <th>FullName</th>\n",
       "      <th>Item</th>\n",
       "      <th>Price</th>\n",
       "      <th>Quantity</th>\n",
       "      <th>Discount</th>\n",
       "      <th>TotalPrice</th>\n",
       "    </tr>\n",
       "  </thead>\n",
       "  <tbody>\n",
       "    <tr>\n",
       "      <th>0</th>\n",
       "      <td>2021-11-15</td>\n",
       "      <td>Norma Fisher</td>\n",
       "      <td>Nokia</td>\n",
       "      <td>1390</td>\n",
       "      <td>8</td>\n",
       "      <td>23</td>\n",
       "      <td>8562.40</td>\n",
       "    </tr>\n",
       "    <tr>\n",
       "      <th>1</th>\n",
       "      <td>2021-07-13</td>\n",
       "      <td>Jorge Sullivan</td>\n",
       "      <td>Nokia</td>\n",
       "      <td>1161</td>\n",
       "      <td>8</td>\n",
       "      <td>40</td>\n",
       "      <td>5572.80</td>\n",
       "    </tr>\n",
       "    <tr>\n",
       "      <th>2</th>\n",
       "      <td>2022-04-15</td>\n",
       "      <td>Elizabeth Woods</td>\n",
       "      <td>OnePlus</td>\n",
       "      <td>645</td>\n",
       "      <td>4</td>\n",
       "      <td>15</td>\n",
       "      <td>2193.00</td>\n",
       "    </tr>\n",
       "    <tr>\n",
       "      <th>3</th>\n",
       "      <td>2022-02-02</td>\n",
       "      <td>Susan Wagner</td>\n",
       "      <td>Sony Xperia</td>\n",
       "      <td>569</td>\n",
       "      <td>6</td>\n",
       "      <td>34</td>\n",
       "      <td>2253.24</td>\n",
       "    </tr>\n",
       "    <tr>\n",
       "      <th>4</th>\n",
       "      <td>2022-10-30</td>\n",
       "      <td>Peter Montgomery</td>\n",
       "      <td>OnePlus</td>\n",
       "      <td>1488</td>\n",
       "      <td>8</td>\n",
       "      <td>35</td>\n",
       "      <td>7737.60</td>\n",
       "    </tr>\n",
       "  </tbody>\n",
       "</table>\n",
       "</div>"
      ],
      "text/plain": [
       "        Date          FullName         Item  Price  Quantity  Discount  \\\n",
       "0 2021-11-15      Norma Fisher        Nokia   1390         8        23   \n",
       "1 2021-07-13    Jorge Sullivan        Nokia   1161         8        40   \n",
       "2 2022-04-15   Elizabeth Woods      OnePlus    645         4        15   \n",
       "3 2022-02-02      Susan Wagner  Sony Xperia    569         6        34   \n",
       "4 2022-10-30  Peter Montgomery      OnePlus   1488         8        35   \n",
       "\n",
       "   TotalPrice  \n",
       "0     8562.40  \n",
       "1     5572.80  \n",
       "2     2193.00  \n",
       "3     2253.24  \n",
       "4     7737.60  "
      ]
     },
     "execution_count": 39,
     "metadata": {},
     "output_type": "execute_result"
    }
   ],
   "source": [
    "# Printing the dataframe including the TotalPrice Column\n",
    "df.head(5)"
   ]
  },
  {
   "cell_type": "markdown",
   "id": "442b1f16-2b67-43c9-b6a3-f637041c9810",
   "metadata": {},
   "source": [
    "# Calculating Column2 (FinalPrice)"
   ]
  },
  {
   "cell_type": "code",
   "execution_count": 40,
   "id": "de67b1b4-9283-4a2f-9dac-157a5f9a2322",
   "metadata": {},
   "outputs": [],
   "source": [
    "# Assuming a fixed Tax Rate of 10%\n",
    "tax_rate = 0.10"
   ]
  },
  {
   "cell_type": "code",
   "execution_count": 41,
   "id": "1a9ecb26-c5a4-47df-bc82-f6e62283af65",
   "metadata": {},
   "outputs": [],
   "source": [
    "# Calculating FinalPrice which includes tax\n",
    "df['FinalPrice'] = df['TotalPrice'] * (1 + tax_rate)"
   ]
  },
  {
   "cell_type": "code",
   "execution_count": 42,
   "id": "9269c15a-59c5-40e1-84d4-f3fe84570849",
   "metadata": {},
   "outputs": [
    {
     "data": {
      "text/html": [
       "<div>\n",
       "<style scoped>\n",
       "    .dataframe tbody tr th:only-of-type {\n",
       "        vertical-align: middle;\n",
       "    }\n",
       "\n",
       "    .dataframe tbody tr th {\n",
       "        vertical-align: top;\n",
       "    }\n",
       "\n",
       "    .dataframe thead th {\n",
       "        text-align: right;\n",
       "    }\n",
       "</style>\n",
       "<table border=\"1\" class=\"dataframe\">\n",
       "  <thead>\n",
       "    <tr style=\"text-align: right;\">\n",
       "      <th></th>\n",
       "      <th>Date</th>\n",
       "      <th>FullName</th>\n",
       "      <th>Item</th>\n",
       "      <th>Price</th>\n",
       "      <th>Quantity</th>\n",
       "      <th>Discount</th>\n",
       "      <th>TotalPrice</th>\n",
       "      <th>FinalPrice</th>\n",
       "    </tr>\n",
       "  </thead>\n",
       "  <tbody>\n",
       "    <tr>\n",
       "      <th>0</th>\n",
       "      <td>2021-11-15</td>\n",
       "      <td>Norma Fisher</td>\n",
       "      <td>Nokia</td>\n",
       "      <td>1390</td>\n",
       "      <td>8</td>\n",
       "      <td>23</td>\n",
       "      <td>8562.40</td>\n",
       "      <td>9418.640</td>\n",
       "    </tr>\n",
       "    <tr>\n",
       "      <th>1</th>\n",
       "      <td>2021-07-13</td>\n",
       "      <td>Jorge Sullivan</td>\n",
       "      <td>Nokia</td>\n",
       "      <td>1161</td>\n",
       "      <td>8</td>\n",
       "      <td>40</td>\n",
       "      <td>5572.80</td>\n",
       "      <td>6130.080</td>\n",
       "    </tr>\n",
       "    <tr>\n",
       "      <th>2</th>\n",
       "      <td>2022-04-15</td>\n",
       "      <td>Elizabeth Woods</td>\n",
       "      <td>OnePlus</td>\n",
       "      <td>645</td>\n",
       "      <td>4</td>\n",
       "      <td>15</td>\n",
       "      <td>2193.00</td>\n",
       "      <td>2412.300</td>\n",
       "    </tr>\n",
       "    <tr>\n",
       "      <th>3</th>\n",
       "      <td>2022-02-02</td>\n",
       "      <td>Susan Wagner</td>\n",
       "      <td>Sony Xperia</td>\n",
       "      <td>569</td>\n",
       "      <td>6</td>\n",
       "      <td>34</td>\n",
       "      <td>2253.24</td>\n",
       "      <td>2478.564</td>\n",
       "    </tr>\n",
       "    <tr>\n",
       "      <th>4</th>\n",
       "      <td>2022-10-30</td>\n",
       "      <td>Peter Montgomery</td>\n",
       "      <td>OnePlus</td>\n",
       "      <td>1488</td>\n",
       "      <td>8</td>\n",
       "      <td>35</td>\n",
       "      <td>7737.60</td>\n",
       "      <td>8511.360</td>\n",
       "    </tr>\n",
       "  </tbody>\n",
       "</table>\n",
       "</div>"
      ],
      "text/plain": [
       "        Date          FullName         Item  Price  Quantity  Discount  \\\n",
       "0 2021-11-15      Norma Fisher        Nokia   1390         8        23   \n",
       "1 2021-07-13    Jorge Sullivan        Nokia   1161         8        40   \n",
       "2 2022-04-15   Elizabeth Woods      OnePlus    645         4        15   \n",
       "3 2022-02-02      Susan Wagner  Sony Xperia    569         6        34   \n",
       "4 2022-10-30  Peter Montgomery      OnePlus   1488         8        35   \n",
       "\n",
       "   TotalPrice  FinalPrice  \n",
       "0     8562.40    9418.640  \n",
       "1     5572.80    6130.080  \n",
       "2     2193.00    2412.300  \n",
       "3     2253.24    2478.564  \n",
       "4     7737.60    8511.360  "
      ]
     },
     "execution_count": 42,
     "metadata": {},
     "output_type": "execute_result"
    }
   ],
   "source": [
    "df.head(5)"
   ]
  },
  {
   "cell_type": "markdown",
   "id": "cad5239e-2f16-4b25-a3ea-292685cec25d",
   "metadata": {},
   "source": [
    "# Calculatin Column3 OriginalTotalPrice"
   ]
  },
  {
   "cell_type": "code",
   "execution_count": 43,
   "id": "39a83c16-151d-49f7-9ff5-315387787c4a",
   "metadata": {},
   "outputs": [
    {
     "data": {
      "text/html": [
       "<div>\n",
       "<style scoped>\n",
       "    .dataframe tbody tr th:only-of-type {\n",
       "        vertical-align: middle;\n",
       "    }\n",
       "\n",
       "    .dataframe tbody tr th {\n",
       "        vertical-align: top;\n",
       "    }\n",
       "\n",
       "    .dataframe thead th {\n",
       "        text-align: right;\n",
       "    }\n",
       "</style>\n",
       "<table border=\"1\" class=\"dataframe\">\n",
       "  <thead>\n",
       "    <tr style=\"text-align: right;\">\n",
       "      <th></th>\n",
       "      <th>Date</th>\n",
       "      <th>FullName</th>\n",
       "      <th>Item</th>\n",
       "      <th>Price</th>\n",
       "      <th>Quantity</th>\n",
       "      <th>Discount</th>\n",
       "      <th>TotalPrice</th>\n",
       "      <th>FinalPrice</th>\n",
       "      <th>OriginalTotalPrice</th>\n",
       "    </tr>\n",
       "  </thead>\n",
       "  <tbody>\n",
       "    <tr>\n",
       "      <th>0</th>\n",
       "      <td>2021-11-15</td>\n",
       "      <td>Norma Fisher</td>\n",
       "      <td>Nokia</td>\n",
       "      <td>1390</td>\n",
       "      <td>8</td>\n",
       "      <td>23</td>\n",
       "      <td>8562.40</td>\n",
       "      <td>9418.640</td>\n",
       "      <td>11120</td>\n",
       "    </tr>\n",
       "    <tr>\n",
       "      <th>1</th>\n",
       "      <td>2021-07-13</td>\n",
       "      <td>Jorge Sullivan</td>\n",
       "      <td>Nokia</td>\n",
       "      <td>1161</td>\n",
       "      <td>8</td>\n",
       "      <td>40</td>\n",
       "      <td>5572.80</td>\n",
       "      <td>6130.080</td>\n",
       "      <td>9288</td>\n",
       "    </tr>\n",
       "    <tr>\n",
       "      <th>2</th>\n",
       "      <td>2022-04-15</td>\n",
       "      <td>Elizabeth Woods</td>\n",
       "      <td>OnePlus</td>\n",
       "      <td>645</td>\n",
       "      <td>4</td>\n",
       "      <td>15</td>\n",
       "      <td>2193.00</td>\n",
       "      <td>2412.300</td>\n",
       "      <td>2580</td>\n",
       "    </tr>\n",
       "    <tr>\n",
       "      <th>3</th>\n",
       "      <td>2022-02-02</td>\n",
       "      <td>Susan Wagner</td>\n",
       "      <td>Sony Xperia</td>\n",
       "      <td>569</td>\n",
       "      <td>6</td>\n",
       "      <td>34</td>\n",
       "      <td>2253.24</td>\n",
       "      <td>2478.564</td>\n",
       "      <td>3414</td>\n",
       "    </tr>\n",
       "    <tr>\n",
       "      <th>4</th>\n",
       "      <td>2022-10-30</td>\n",
       "      <td>Peter Montgomery</td>\n",
       "      <td>OnePlus</td>\n",
       "      <td>1488</td>\n",
       "      <td>8</td>\n",
       "      <td>35</td>\n",
       "      <td>7737.60</td>\n",
       "      <td>8511.360</td>\n",
       "      <td>11904</td>\n",
       "    </tr>\n",
       "  </tbody>\n",
       "</table>\n",
       "</div>"
      ],
      "text/plain": [
       "        Date          FullName         Item  Price  Quantity  Discount  \\\n",
       "0 2021-11-15      Norma Fisher        Nokia   1390         8        23   \n",
       "1 2021-07-13    Jorge Sullivan        Nokia   1161         8        40   \n",
       "2 2022-04-15   Elizabeth Woods      OnePlus    645         4        15   \n",
       "3 2022-02-02      Susan Wagner  Sony Xperia    569         6        34   \n",
       "4 2022-10-30  Peter Montgomery      OnePlus   1488         8        35   \n",
       "\n",
       "   TotalPrice  FinalPrice  OriginalTotalPrice  \n",
       "0     8562.40    9418.640               11120  \n",
       "1     5572.80    6130.080                9288  \n",
       "2     2193.00    2412.300                2580  \n",
       "3     2253.24    2478.564                3414  \n",
       "4     7737.60    8511.360               11904  "
      ]
     },
     "execution_count": 43,
     "metadata": {},
     "output_type": "execute_result"
    }
   ],
   "source": [
    "# Calculating The DiscountedPrice\n",
    "# ORIGINAL  TOTAL PRICE WITHOUT DISCOUNT\n",
    "df['OriginalTotalPrice'] = df['Price'] * df ['Quantity']\n",
    "df.head(5)"
   ]
  },
  {
   "cell_type": "markdown",
   "id": "72356360-b99e-498f-8125-425a42fcc902",
   "metadata": {},
   "source": [
    "# Performing Correlation Analysis Using Heatmap"
   ]
  },
  {
   "cell_type": "code",
   "execution_count": 44,
   "id": "be9ebef0-dbfc-4930-84bf-7b621ceb1e5d",
   "metadata": {},
   "outputs": [],
   "source": [
    "import seaborn as sns\n",
    "import matplotlib.pyplot as plt "
   ]
  },
  {
   "cell_type": "code",
   "execution_count": 45,
   "id": "1804d29c-c78b-4b8b-b1f5-666cd48995a5",
   "metadata": {},
   "outputs": [],
   "source": [
    "# selecting two column i will use for correlation analysis\n",
    "corr = ['Price' ,'TotalPrice']"
   ]
  },
  {
   "cell_type": "code",
   "execution_count": 46,
   "id": "5b801dac-cbb8-4673-8d74-f2d5ccba38da",
   "metadata": {},
   "outputs": [],
   "source": [
    "# Creating a DataFrame with only the selected column\n",
    "techlius_corr = df[corr]"
   ]
  },
  {
   "cell_type": "code",
   "execution_count": 47,
   "id": "9f475a2a-b70a-48bd-8a40-7f1715022846",
   "metadata": {},
   "outputs": [],
   "source": [
    "# Calculating the correlation Matrix\n",
    "corr_matrix = techlius_corr.corr()"
   ]
  },
  {
   "cell_type": "markdown",
   "id": "8f648d09-fcd5-4a3b-beba-ff7634a58a99",
   "metadata": {},
   "source": [
    "# Plotting Heatmap"
   ]
  },
  {
   "cell_type": "code",
   "execution_count": 48,
   "id": "929d5203-88ff-4034-b065-f3125c1e30eb",
   "metadata": {},
   "outputs": [
    {
     "data": {
      "image/png": "[encoded data removed]",
      "text/plain": [
       "<Figure size 400x300 with 2 Axes>"
      ]
     },
     "metadata": {},
     "output_type": "display_data"
    }
   ],
   "source": [
    "plt.figure(figsize=(4,3))\n",
    "sns.heatmap(corr_matrix, annot=True, cmap='coolwarm',fmt=\".2f\")\n",
    "plt.title('Correlation Heatmap of Price and TotalPrice')\n",
    "plt.show()\n"
   ]
  },
  {
   "cell_type": "markdown",
   "id": "279e36a4",
   "metadata": {},
   "source": [
    "#The correlation coefficient ranges from -1 to 1\n",
    "\n",
    "#1 indicates a positive correlation\n",
    "#-1 indicates a perfect nagative correlation\n",
    "#0 indicates no correlation\n",
    "\n",
    "#0.5 indicates moderate positive correlation: \n",
    "#There is a tendency for Price and TotalPrice to increase together. \n",
    "#coefficient of 0.5 imply that as the Price of the item increases, \n",
    "#the TotalPrice after applying discounts and taxes, tends to increase."
   ]
  },
  {
   "cell_type": "markdown",
   "id": "7eb666b2-e5d6-4309-ae12-5cd98a173e66",
   "metadata": {
    "jp-MarkdownHeadingCollapsed": true
   },
   "source": [
    "# Sort and filter on my Data"
   ]
  },
  {
   "cell_type": "markdown",
   "id": "ddc41815-d2bb-4af7-a36a-74111bea28bc",
   "metadata": {},
   "source": [
    "# Sorting by Price in Descending Order"
   ]
  },
  {
   "cell_type": "code",
   "execution_count": 49,
   "id": "910cc3a9-b6a3-44a3-9613-9debe45dab54",
   "metadata": {},
   "outputs": [
    {
     "data": {
      "text/html": [
       "<div>\n",
       "<style scoped>\n",
       "    .dataframe tbody tr th:only-of-type {\n",
       "        vertical-align: middle;\n",
       "    }\n",
       "\n",
       "    .dataframe tbody tr th {\n",
       "        vertical-align: top;\n",
       "    }\n",
       "\n",
       "    .dataframe thead th {\n",
       "        text-align: right;\n",
       "    }\n",
       "</style>\n",
       "<table border=\"1\" class=\"dataframe\">\n",
       "  <thead>\n",
       "    <tr style=\"text-align: right;\">\n",
       "      <th></th>\n",
       "      <th>Date</th>\n",
       "      <th>FullName</th>\n",
       "      <th>Item</th>\n",
       "      <th>Price</th>\n",
       "      <th>Quantity</th>\n",
       "      <th>Discount</th>\n",
       "      <th>TotalPrice</th>\n",
       "      <th>FinalPrice</th>\n",
       "      <th>OriginalTotalPrice</th>\n",
       "    </tr>\n",
       "  </thead>\n",
       "  <tbody>\n",
       "    <tr>\n",
       "      <th>7155</th>\n",
       "      <td>2021-12-17</td>\n",
       "      <td>Kirsten Wagner</td>\n",
       "      <td>OnePlus</td>\n",
       "      <td>1999</td>\n",
       "      <td>9</td>\n",
       "      <td>3</td>\n",
       "      <td>17451.27</td>\n",
       "      <td>19196.397</td>\n",
       "      <td>17991</td>\n",
       "    </tr>\n",
       "    <tr>\n",
       "      <th>6612</th>\n",
       "      <td>2021-01-24</td>\n",
       "      <td>Michael Burns</td>\n",
       "      <td>iPhone</td>\n",
       "      <td>1999</td>\n",
       "      <td>5</td>\n",
       "      <td>5</td>\n",
       "      <td>9495.25</td>\n",
       "      <td>10444.775</td>\n",
       "      <td>9995</td>\n",
       "    </tr>\n",
       "    <tr>\n",
       "      <th>4255</th>\n",
       "      <td>2020-11-01</td>\n",
       "      <td>Thomas Barnes</td>\n",
       "      <td>Huawei</td>\n",
       "      <td>1999</td>\n",
       "      <td>3</td>\n",
       "      <td>1</td>\n",
       "      <td>5937.03</td>\n",
       "      <td>6530.733</td>\n",
       "      <td>5997</td>\n",
       "    </tr>\n",
       "    <tr>\n",
       "      <th>970</th>\n",
       "      <td>2022-09-21</td>\n",
       "      <td>David Orr</td>\n",
       "      <td>Huawei</td>\n",
       "      <td>1999</td>\n",
       "      <td>9</td>\n",
       "      <td>5</td>\n",
       "      <td>17091.45</td>\n",
       "      <td>18800.595</td>\n",
       "      <td>17991</td>\n",
       "    </tr>\n",
       "    <tr>\n",
       "      <th>6370</th>\n",
       "      <td>2020-05-18</td>\n",
       "      <td>Lisa Mclaughlin</td>\n",
       "      <td>Motorola</td>\n",
       "      <td>1999</td>\n",
       "      <td>4</td>\n",
       "      <td>7</td>\n",
       "      <td>7436.28</td>\n",
       "      <td>8179.908</td>\n",
       "      <td>7996</td>\n",
       "    </tr>\n",
       "  </tbody>\n",
       "</table>\n",
       "</div>"
      ],
      "text/plain": [
       "           Date         FullName      Item  Price  Quantity  Discount  \\\n",
       "7155 2021-12-17   Kirsten Wagner   OnePlus   1999         9         3   \n",
       "6612 2021-01-24    Michael Burns    iPhone   1999         5         5   \n",
       "4255 2020-11-01    Thomas Barnes    Huawei   1999         3         1   \n",
       "970  2022-09-21        David Orr    Huawei   1999         9         5   \n",
       "6370 2020-05-18  Lisa Mclaughlin  Motorola   1999         4         7   \n",
       "\n",
       "      TotalPrice  FinalPrice  OriginalTotalPrice  \n",
       "7155    17451.27   19196.397               17991  \n",
       "6612     9495.25   10444.775                9995  \n",
       "4255     5937.03    6530.733                5997  \n",
       "970     17091.45   18800.595               17991  \n",
       "6370     7436.28    8179.908                7996  "
      ]
     },
     "execution_count": 49,
     "metadata": {},
     "output_type": "execute_result"
    }
   ],
   "source": [
    "sortdf = df.sort_values (by = 'Price', ascending=False)\n",
    "sortdf.head(5) #Top 5 most expensive Items"
   ]
  },
  {
   "cell_type": "markdown",
   "id": "4976ff52-331b-4609-853b-0c5d6235d8bf",
   "metadata": {},
   "source": [
    "# Filtering by Discount greater than 20%"
   ]
  },
  {
   "cell_type": "code",
   "execution_count": 50,
   "id": "e56bc0c5-033a-45ce-ba7a-0582c53f477e",
   "metadata": {},
   "outputs": [
    {
     "data": {
      "text/html": [
       "<div>\n",
       "<style scoped>\n",
       "    .dataframe tbody tr th:only-of-type {\n",
       "        vertical-align: middle;\n",
       "    }\n",
       "\n",
       "    .dataframe tbody tr th {\n",
       "        vertical-align: top;\n",
       "    }\n",
       "\n",
       "    .dataframe thead th {\n",
       "        text-align: right;\n",
       "    }\n",
       "</style>\n",
       "<table border=\"1\" class=\"dataframe\">\n",
       "  <thead>\n",
       "    <tr style=\"text-align: right;\">\n",
       "      <th></th>\n",
       "      <th>Date</th>\n",
       "      <th>FullName</th>\n",
       "      <th>Item</th>\n",
       "      <th>Price</th>\n",
       "      <th>Quantity</th>\n",
       "      <th>Discount</th>\n",
       "      <th>TotalPrice</th>\n",
       "      <th>FinalPrice</th>\n",
       "      <th>OriginalTotalPrice</th>\n",
       "    </tr>\n",
       "  </thead>\n",
       "  <tbody>\n",
       "    <tr>\n",
       "      <th>0</th>\n",
       "      <td>2021-11-15</td>\n",
       "      <td>Norma Fisher</td>\n",
       "      <td>Nokia</td>\n",
       "      <td>1390</td>\n",
       "      <td>8</td>\n",
       "      <td>23</td>\n",
       "      <td>8562.40</td>\n",
       "      <td>9418.640</td>\n",
       "      <td>11120</td>\n",
       "    </tr>\n",
       "    <tr>\n",
       "      <th>1</th>\n",
       "      <td>2021-07-13</td>\n",
       "      <td>Jorge Sullivan</td>\n",
       "      <td>Nokia</td>\n",
       "      <td>1161</td>\n",
       "      <td>8</td>\n",
       "      <td>40</td>\n",
       "      <td>5572.80</td>\n",
       "      <td>6130.080</td>\n",
       "      <td>9288</td>\n",
       "    </tr>\n",
       "    <tr>\n",
       "      <th>3</th>\n",
       "      <td>2022-02-02</td>\n",
       "      <td>Susan Wagner</td>\n",
       "      <td>Sony Xperia</td>\n",
       "      <td>569</td>\n",
       "      <td>6</td>\n",
       "      <td>34</td>\n",
       "      <td>2253.24</td>\n",
       "      <td>2478.564</td>\n",
       "      <td>3414</td>\n",
       "    </tr>\n",
       "    <tr>\n",
       "      <th>4</th>\n",
       "      <td>2022-10-30</td>\n",
       "      <td>Peter Montgomery</td>\n",
       "      <td>OnePlus</td>\n",
       "      <td>1488</td>\n",
       "      <td>8</td>\n",
       "      <td>35</td>\n",
       "      <td>7737.60</td>\n",
       "      <td>8511.360</td>\n",
       "      <td>11904</td>\n",
       "    </tr>\n",
       "    <tr>\n",
       "      <th>5</th>\n",
       "      <td>2020-10-04</td>\n",
       "      <td>Theodore Mcgrath</td>\n",
       "      <td>iPhone</td>\n",
       "      <td>532</td>\n",
       "      <td>1</td>\n",
       "      <td>28</td>\n",
       "      <td>383.04</td>\n",
       "      <td>421.344</td>\n",
       "      <td>532</td>\n",
       "    </tr>\n",
       "  </tbody>\n",
       "</table>\n",
       "</div>"
      ],
      "text/plain": [
       "        Date          FullName         Item  Price  Quantity  Discount  \\\n",
       "0 2021-11-15      Norma Fisher        Nokia   1390         8        23   \n",
       "1 2021-07-13    Jorge Sullivan        Nokia   1161         8        40   \n",
       "3 2022-02-02      Susan Wagner  Sony Xperia    569         6        34   \n",
       "4 2022-10-30  Peter Montgomery      OnePlus   1488         8        35   \n",
       "5 2020-10-04  Theodore Mcgrath       iPhone    532         1        28   \n",
       "\n",
       "   TotalPrice  FinalPrice  OriginalTotalPrice  \n",
       "0     8562.40    9418.640               11120  \n",
       "1     5572.80    6130.080                9288  \n",
       "3     2253.24    2478.564                3414  \n",
       "4     7737.60    8511.360               11904  \n",
       "5      383.04     421.344                 532  "
      ]
     },
     "execution_count": 50,
     "metadata": {},
     "output_type": "execute_result"
    }
   ],
   "source": [
    "filterdf = df[df['Discount'] >20]\n",
    "filterdf.head(5)"
   ]
  },
  {
   "cell_type": "markdown",
   "id": "3783707f-4dbd-4b54-96fd-3e51be285f10",
   "metadata": {},
   "source": [
    "# Filtering by PhoneName"
   ]
  },
  {
   "cell_type": "code",
   "execution_count": 51,
   "id": "6959335a-62f8-4c5c-b702-0f66775314c1",
   "metadata": {},
   "outputs": [
    {
     "data": {
      "text/html": [
       "<div>\n",
       "<style scoped>\n",
       "    .dataframe tbody tr th:only-of-type {\n",
       "        vertical-align: middle;\n",
       "    }\n",
       "\n",
       "    .dataframe tbody tr th {\n",
       "        vertical-align: top;\n",
       "    }\n",
       "\n",
       "    .dataframe thead th {\n",
       "        text-align: right;\n",
       "    }\n",
       "</style>\n",
       "<table border=\"1\" class=\"dataframe\">\n",
       "  <thead>\n",
       "    <tr style=\"text-align: right;\">\n",
       "      <th></th>\n",
       "      <th>Date</th>\n",
       "      <th>FullName</th>\n",
       "      <th>Item</th>\n",
       "      <th>Price</th>\n",
       "      <th>Quantity</th>\n",
       "      <th>Discount</th>\n",
       "      <th>TotalPrice</th>\n",
       "      <th>FinalPrice</th>\n",
       "      <th>OriginalTotalPrice</th>\n",
       "    </tr>\n",
       "  </thead>\n",
       "  <tbody>\n",
       "    <tr>\n",
       "      <th>5</th>\n",
       "      <td>2020-10-04</td>\n",
       "      <td>Theodore Mcgrath</td>\n",
       "      <td>iPhone</td>\n",
       "      <td>532</td>\n",
       "      <td>1</td>\n",
       "      <td>28</td>\n",
       "      <td>383.04</td>\n",
       "      <td>421.344</td>\n",
       "      <td>532</td>\n",
       "    </tr>\n",
       "    <tr>\n",
       "      <th>6</th>\n",
       "      <td>2021-08-22</td>\n",
       "      <td>Stephanie Collins</td>\n",
       "      <td>iPhone</td>\n",
       "      <td>1931</td>\n",
       "      <td>8</td>\n",
       "      <td>30</td>\n",
       "      <td>10813.60</td>\n",
       "      <td>11894.960</td>\n",
       "      <td>15448</td>\n",
       "    </tr>\n",
       "    <tr>\n",
       "      <th>14</th>\n",
       "      <td>2022-04-29</td>\n",
       "      <td>Dana Nguyen</td>\n",
       "      <td>iPhone</td>\n",
       "      <td>532</td>\n",
       "      <td>7</td>\n",
       "      <td>23</td>\n",
       "      <td>2867.48</td>\n",
       "      <td>3154.228</td>\n",
       "      <td>3724</td>\n",
       "    </tr>\n",
       "    <tr>\n",
       "      <th>16</th>\n",
       "      <td>2022-04-25</td>\n",
       "      <td>Walter Pratt</td>\n",
       "      <td>iPhone</td>\n",
       "      <td>1808</td>\n",
       "      <td>3</td>\n",
       "      <td>30</td>\n",
       "      <td>3796.80</td>\n",
       "      <td>4176.480</td>\n",
       "      <td>5424</td>\n",
       "    </tr>\n",
       "    <tr>\n",
       "      <th>18</th>\n",
       "      <td>2022-02-16</td>\n",
       "      <td>Tasha Rodriguez</td>\n",
       "      <td>iPhone</td>\n",
       "      <td>1136</td>\n",
       "      <td>4</td>\n",
       "      <td>49</td>\n",
       "      <td>2317.44</td>\n",
       "      <td>2549.184</td>\n",
       "      <td>4544</td>\n",
       "    </tr>\n",
       "  </tbody>\n",
       "</table>\n",
       "</div>"
      ],
      "text/plain": [
       "         Date           FullName    Item  Price  Quantity  Discount  \\\n",
       "5  2020-10-04   Theodore Mcgrath  iPhone    532         1        28   \n",
       "6  2021-08-22  Stephanie Collins  iPhone   1931         8        30   \n",
       "14 2022-04-29        Dana Nguyen  iPhone    532         7        23   \n",
       "16 2022-04-25       Walter Pratt  iPhone   1808         3        30   \n",
       "18 2022-02-16    Tasha Rodriguez  iPhone   1136         4        49   \n",
       "\n",
       "    TotalPrice  FinalPrice  OriginalTotalPrice  \n",
       "5       383.04     421.344                 532  \n",
       "6     10813.60   11894.960               15448  \n",
       "14     2867.48    3154.228                3724  \n",
       "16     3796.80    4176.480                5424  \n",
       "18     2317.44    2549.184                4544  "
      ]
     },
     "execution_count": 51,
     "metadata": {},
     "output_type": "execute_result"
    }
   ],
   "source": [
    "filterPhone = df[df['Item'] == 'iPhone']\n",
    "filterPhone.head()"
   ]
  },
  {
   "cell_type": "markdown",
   "id": "11938012",
   "metadata": {},
   "source": [
    "# Creating Four Visuals on my Data"
   ]
  },
  {
   "cell_type": "code",
   "execution_count": 52,
   "id": "e2af90a4",
   "metadata": {},
   "outputs": [
    {
     "name": "stderr",
     "output_type": "stream",
     "text": [
      "C:\\Users\\JULIUS\\anaconda3\\Lib\\site-packages\\seaborn\\_oldcore.py:1119: FutureWarning: use_inf_as_na option is deprecated and will be removed in a future version. Convert inf values to NaN before operating instead.\n",
      "  with pd.option_context('mode.use_inf_as_na', True):\n"
     ]
    },
    {
     "data": {
      "image/png": "[encoded data removed]",
      "text/plain": [
       "<Figure size 400x300 with 1 Axes>"
      ]
     },
     "metadata": {},
     "output_type": "display_data"
    }
   ],
   "source": [
    "# Distribution of Prices Histogram\n",
    "plt.figure(figsize=(4,3))\n",
    "sns.histplot(df['Price'], bins = 30, kde = True)\n",
    "plt.title('distribution of Prices')\n",
    "plt.xlabel('Price')\n",
    "plt.ylabel('Frequency')\n",
    "plt.show()\n"
   ]
  },
  {
   "cell_type": "code",
   "execution_count": 53,
   "id": "8abb7bde",
   "metadata": {},
   "outputs": [
    {
     "data": {
      "image/png": "[encoded data removed]",
      "text/plain": [
       "<Figure size 400x300 with 1 Axes>"
      ]
     },
     "metadata": {},
     "output_type": "display_data"
    }
   ],
   "source": [
    "# Quantity vs. TotalPrice Scatter Plot\n",
    "plt.figure(figsize=(4,3))\n",
    "sns.scatterplot(x='Quantity', y = 'TotalPrice', data =df)\n",
    "plt.title('Quantity vs. TotalPrice')\n",
    "plt.xlabel('Quantity')\n",
    "plt.ylabel('TotalPrice')\n",
    "plt.show()\n"
   ]
  },
  {
   "cell_type": "code",
   "execution_count": 54,
   "id": "1b46e122",
   "metadata": {},
   "outputs": [
    {
     "data": {
      "image/png": "[encoded data removed]",
      "text/plain": [
       "<Figure size 400x300 with 1 Axes>"
      ]
     },
     "metadata": {},
     "output_type": "display_data"
    }
   ],
   "source": [
    "#Discount Distribution by item\n",
    "plt.figure(figsize=(4,3))\n",
    "sns.boxplot(x='Item', y = 'Discount', data =df)\n",
    "plt.title('Discount Distribution by item')\n",
    "plt.xlabel('Item')\n",
    "plt.ylabel('Discount')\n",
    "plt.xticks(rotation = 45)\n",
    "plt.show()"
   ]
  },
  {
   "cell_type": "code",
   "execution_count": 56,
   "id": "1b182d59",
   "metadata": {},
   "outputs": [
    {
     "data": {
      "image/png": "[encoded data removed]",
      "text/plain": [
       "<Figure size 400x300 with 1 Axes>"
      ]
     },
     "metadata": {},
     "output_type": "display_data"
    }
   ],
   "source": [
    "#Count of Items sold by Phone Name\n",
    "plt.figure(figsize=(4,3))\n",
    "sns.countplot(x = 'Item',data =df, palette='muted')\n",
    "plt.title('Count of Items Sold')\n",
    "plt.xlabel('PhoneName')\n",
    "plt.ylabel('Count of Items Sold')\n",
    "plt.xticks(rotation =45)\n",
    "plt.show()\n",
    "\n"
   ]
  }
 ],
 "metadata": {
  "kernelspec": {
   "display_name": "Python 3 (ipykernel)",
   "language": "python",
   "name": "python3"
  },
  "language_info": {
   "codemirror_mode": {
    "name": "ipython",
    "version": 3
   },
   "file_extension": ".py",
   "mimetype": "text/x-python",
   "name": "python",
   "nbconvert_exporter": "python",
   "pygments_lexer": "ipython3",
   "version": "3.11.7"
  }
 },
 "nbformat": 4,
 "nbformat_minor": 5
}
